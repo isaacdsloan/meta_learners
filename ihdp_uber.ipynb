{
 "cells": [
  {
   "cell_type": "code",
   "execution_count": 4,
   "metadata": {},
   "outputs": [],
   "source": [
    "from causalml.inference.meta import BaseSLearner, BaseTLearner, BaseXLearner\n",
    "from sklearn.neural_network import MLPRegressor\n",
    "from sklearn.linear_model import LinearRegression\n",
    "# from causalml.dataset import synthetic_data\n",
    "import numpy as np\n",
    "from dataloader import load_IHDP_data\n",
    "from visualizations import plot_cates_uber, plot_cates\n",
    "from causalml.metrics import *\n",
    "from matplotlib import pyplot as plt \n",
    "import seaborn as sns\n",
    "import pandas as pd\n",
    "\n",
    "data = load_IHDP_data(training_data='./ihdp_npci_1-100.train.npz',testing_data='./ihdp_npci_1-100.test.npz')\n",
    "\n",
    "#concatenate t so we can use it as input\n",
    "xt = np.concatenate([data['x'], data['t']], 1)\n",
    "\n",
    "X = data['x']\n",
    "z = data['t'].reshape(-1)\n",
    "y = data['y'].reshape(-1)\n",
    "\n",
    "ite = data['mu_1'] - data['mu_0']\n"
   ]
  },
  {
   "cell_type": "code",
   "execution_count": 5,
   "metadata": {},
   "outputs": [],
   "source": [
    "def get_metrics(name, model):\n",
    "    pred = model.fit_predict(X, z, y).reshape(-1)\n",
    "    try:\n",
    "        ate, lb, ub = model.estimate_ate(X, z, y, return_ci=True) #95% CI\n",
    "    except:\n",
    "        ate, lb, ub = model.estimate_ate(X, z, y)\n",
    "    mad_metric = abs(ate - np.mean(ite))\n",
    "    pehe = rmse(pred, ite)\n",
    "    return (pred, [name, pehe, mad_metric[0], lb[0], ub[0]])"
   ]
  },
  {
   "cell_type": "markdown",
   "metadata": {},
   "source": [
    "#### S-Learner OLS\n",
    "\n",
    "Using a classical linear regression model to estimate ATE is standard, but using it to estimate CATE is problematic. While the ATE may be accurate when estimating using linear regression, the CATE under linear regression is equal to the ATE for all units. Intuitively, we should expect units with a particular set of features to have a different CATE compared to units with a different set of features. In reality, it is naive to assume a treatment treats all units in the exact same manner and here in lies the inspiration for more powerful machine learning techniques to acurately estimate the heterogenous effect of individual units. "
   ]
  },
  {
   "cell_type": "code",
   "execution_count": 7,
   "metadata": {},
   "outputs": [],
   "source": [
    "import pandas as pd\n",
    "ols = BaseSLearner(learner=LinearRegression())\n",
    "\n",
    "\n",
    "cate_ols_outcome, slearner_ols_results = get_metrics(\"S Learner (LR)\", ols)"
   ]
  },
  {
   "cell_type": "code",
   "execution_count": 8,
   "metadata": {},
   "outputs": [
    {
     "data": {
      "text/plain": [
       "(747,)"
      ]
     },
     "execution_count": 8,
     "metadata": {},
     "output_type": "execute_result"
    }
   ],
   "source": [
    "results = ols.predict(X, z, y, return_components=True)\n",
    "cate = results[0]\n",
    "pred = results[1]"
   ]
  },
  {
   "cell_type": "code",
   "execution_count": 65,
   "metadata": {},
   "outputs": [],
   "source": [
    "def get_rmse(y0, y1):\n",
    "    control_indicies = np.where(z == 0)[0]\n",
    "    treatment_indicies = np.where(z == 1)[0]\n",
    "    \n",
    "    control_losses = (y[control_indicies] - y0[control_indicies])\n",
    "    treatment_losses = (y[treatment_indicies] - y1[treatment_indicies])\n",
    "\n",
    "    return np.sqrt(np.mean(np.concatenate((control_losses,treatment_losses))**2))\n"
   ]
  },
  {
   "cell_type": "code",
   "execution_count": 66,
   "metadata": {},
   "outputs": [
    {
     "data": {
      "text/plain": [
       "1.3304864777234495"
      ]
     },
     "execution_count": 66,
     "metadata": {},
     "output_type": "execute_result"
    }
   ],
   "source": [
    "y0 = results[1][1]\n",
    "y1 = results[2][1]\n",
    "get_rmse(y0, y1)"
   ]
  },
  {
   "cell_type": "code",
   "execution_count": 53,
   "metadata": {},
   "outputs": [
    {
     "data": {
      "text/plain": [
       "['S Learner (LR)',\n",
       " 1.5418028634501457,\n",
       " 0.09343173886379663,\n",
       " 3.669330693081139,\n",
       " 4.224839646523896]"
      ]
     },
     "execution_count": 53,
     "metadata": {},
     "output_type": "execute_result"
    }
   ],
   "source": [
    "slearner_ols_results"
   ]
  },
  {
   "cell_type": "markdown",
   "metadata": {},
   "source": [
    "#### S-Learner MLP\n",
    "\n",
    "The next approach follows from modern day deep learning techniques and uses a multilayer perceptron as the basis for our S-Learner. Best hyperparameters:\n",
    "* lr=0.1000, layers=5, neurons=20"
   ]
  },
  {
   "cell_type": "code",
   "execution_count": 92,
   "metadata": {},
   "outputs": [
    {
     "data": {
      "text/plain": [
       "['S Learner (MLP)',\n",
       " 1.0931660431657122,\n",
       " 0.4584432983201374,\n",
       " 3.2055067843604457,\n",
       " 3.584913480876721]"
      ]
     },
     "execution_count": 92,
     "metadata": {},
     "output_type": "execute_result"
    }
   ],
   "source": [
    "layer_smlp = [20 for i in np.arange(5)]\n",
    "\n",
    "s_mlp = BaseSLearner(learner=MLPRegressor(hidden_layer_sizes = layer_smlp,learning_rate_init=0.1, batch_size=64, max_iter=3000, random_state=42))\n",
    "cate_s_mlp_outcome, slearner_mlp_results = get_metrics(\"S Learner (MLP)\", s_mlp)\n",
    "slearner_mlp_results"
   ]
  },
  {
   "cell_type": "code",
   "execution_count": 84,
   "metadata": {},
   "outputs": [
    {
     "data": {
      "text/plain": [
       "0.9686321087257812"
      ]
     },
     "execution_count": 84,
     "metadata": {},
     "output_type": "execute_result"
    }
   ],
   "source": [
    "results_smlp = s_mlp.predict(X, z, y, return_components=True)\n",
    "smlp_y0 = results_smlp[1][1]\n",
    "smlp_y1 = results_smlp[2][1]\n",
    "rmse_smlp = get_rmse(smlp_y0, smlp_y1)\n",
    "rmse_smlp"
   ]
  },
  {
   "cell_type": "code",
   "execution_count": null,
   "metadata": {},
   "outputs": [],
   "source": [
    "for lower,upper,y in zip(dataset['lower'],dataset['upper'],range(len(dataset))):\n",
    "    plt.plot((lower,upper),(y,y),'ro-',color='orange')\n",
    "plt.yticks(range(len(dataset)),list(dataset['category']))"
   ]
  },
  {
   "cell_type": "markdown",
   "metadata": {},
   "source": [
    "##### Hyperparameter Tuning"
   ]
  },
  {
   "cell_type": "code",
   "execution_count": 21,
   "metadata": {},
   "outputs": [],
   "source": [
    "# lrs= [1e-1, 1e-2, 1e-3, 1e-4]\n",
    "# num_hidden_layers = [1,3,5,7]\n",
    "# hidden_layer_sizes = [20,50,100]\n",
    "# data = []\n",
    "# for lr in lrs:\n",
    "#     for layer in num_hidden_layers:\n",
    "#         for sizes in hidden_layer_sizes:\n",
    "#             layer_dims = [sizes for i in np.arange(layer)]\n",
    "#             s_mlp = BaseSLearner(learner=MLPRegressor(hidden_layer_sizes=layer_dims, batch_size=64, max_iter=1000, learning_rate_init=lr))\n",
    "#             cate_s_mlp_outcome, slearner_mlp_results = get_metrics(\"S Learner (MLP)\", s_mlp)\n",
    "#             print(lr, layer, sizes)\n",
    "#             data.append(slearner_mlp_results + [lr, layer, sizes])\n",
    "\n",
    "\n",
    "# hyper_results_s_mlp = pd.DataFrame(data=data, \n",
    "# columns= [\"Learner\", \"PEHE\", \"Mean Abs Diff (ATE)\", \"LB\", \"UB\", \"lr\", \"layers\", \"hidden_dim\"])\n",
    "# hyper_results_s_mlp.sort_values(by='PEHE').head(5)\n",
    "\n",
    "# hyper_results_s_mlp.sort_values(by='Mean Abs Diff (ATE)').head(5)\n"
   ]
  },
  {
   "cell_type": "markdown",
   "metadata": {},
   "source": [
    "#### T-Learner MLP\n",
    "Best Hyperparameters:\n",
    "* lr=0.0001, layers=7, neurons=20"
   ]
  },
  {
   "cell_type": "code",
   "execution_count": 112,
   "metadata": {},
   "outputs": [
    {
     "data": {
      "text/plain": [
       "['T Learner (MLP)',\n",
       " 1.5334767379609229,\n",
       " 0.01409277858504332,\n",
       " 3.694179416458043,\n",
       " 4.041313002589486]"
      ]
     },
     "execution_count": 112,
     "metadata": {},
     "output_type": "execute_result"
    }
   ],
   "source": [
    "# lr=0.1000,layer=7, neurons=20\n",
    "layer_t = [20 for i in np.arange(7)]\n",
    "t_mlp = BaseTLearner(control_learner=MLPRegressor(hidden_layer_sizes=layer_t, learning_rate_init=0.0001, batch_size=64, max_iter=3000, random_state=42), \n",
    "treatment_learner=MLPRegressor(hidden_layer_sizes=layer_t, learning_rate_init=0.0001, batch_size=64, max_iter=3000, random_state=42))\n",
    "\n",
    "cate_t_mlp_outcome, tlearner_mlp_results = get_metrics(\"T Learner (MLP)\", t_mlp)\n",
    "tlearner_mlp_results\n",
    "\n",
    "# ate, lb, ub = t_mlp.estimate_ate(X, z, y)\n",
    "# print(\"Average Treatment Effect (True = %2f): %2f\" % (np.average(data['mu_1']-data['mu_0']), ate))\n",
    "# print(\"Confidence Interval (CI): %2f, %2f \" % (lb, ub))"
   ]
  },
  {
   "cell_type": "code",
   "execution_count": 97,
   "metadata": {},
   "outputs": [
    {
     "data": {
      "text/plain": [
       "2.2057872"
      ]
     },
     "execution_count": 97,
     "metadata": {},
     "output_type": "execute_result"
    }
   ],
   "source": [
    "results_tmlp = t_mlp.predict(X, z, y, return_components=True)\n",
    "tmlp_y0 = results_tmlp[1][1]\n",
    "tmlp_y1 = results_tmlp[2][1]\n",
    "rmse_tmlp = get_rmse(tmlp_y0, tmlp_y1)\n",
    "rmse_tmlp"
   ]
  },
  {
   "cell_type": "code",
   "execution_count": 19,
   "metadata": {},
   "outputs": [],
   "source": [
    "# lrs= [1e-1, 1e-2, 1e-3, 1e-4]\n",
    "# num_hidden_layers = [1,3,5,7]\n",
    "# hidden_layer_sizes = [20,50,100]\n",
    "\n",
    "# t_hyper_data = []\n",
    "# for lr in lrs:\n",
    "#     for layer in num_hidden_layers:\n",
    "#         for sizes in hidden_layer_sizes:\n",
    "#             layer_dims = [sizes for i in np.arange(layer)]\n",
    "#             t_mlp = BaseTLearner(learner=MLPRegressor(hidden_layer_sizes=layer_dims, batch_size=64, max_iter=1000, learning_rate_init=lr))\n",
    "#             cate_t_mlp_outcome, tlearner_mlp_results = get_metrics(\"T Learner (MLP)\", t_mlp)\n",
    "#             print(lr, layer, sizes)\n",
    "#             t_hyper_data.append(tlearner_mlp_results + [lr, layer, sizes])\n",
    "\n",
    "# hyper_results_t_mlp = pd.DataFrame(data=t_hyper_data, \n",
    "# columns= [\"Learner\", \"PEHE\", \"Mean Abs Diff (ATE)\", \"LB\", \"UB\", \"lr\", \"layers\", \"hidden_dim\"])\n",
    "# hyper_results_t_mlp.sort_values(by='PEHE').head(5)\n",
    "\n",
    "# hyper_results_t_mlp.sort_values(by='Mean Abs Diff (ATE)').head(5)"
   ]
  },
  {
   "cell_type": "code",
   "execution_count": 114,
   "metadata": {},
   "outputs": [
    {
     "data": {
      "text/plain": [
       "['T Learner (MLP, LR)',\n",
       " 1.2085886669590933,\n",
       " 0.16982216656287852,\n",
       " 3.463981401303067,\n",
       " 3.903681127448617]"
      ]
     },
     "execution_count": 114,
     "metadata": {},
     "output_type": "execute_result"
    }
   ],
   "source": [
    "layer_t = [20 for i in np.arange(7)]\n",
    "t_mlp_lr = BaseTLearner(control_learner=MLPRegressor(hidden_layer_sizes=layer_t, learning_rate_init=0.0001, batch_size=64, max_iter=3000, random_state=42), \n",
    "treatment_learner=LinearRegression())\n",
    "\n",
    "cate_t_mlp_lr_outcome, t_mlp_lr_results = get_metrics(\"T Learner (MLP, LR)\", t_mlp_lr)\n",
    "t_mlp_lr_results"
   ]
  },
  {
   "cell_type": "code",
   "execution_count": 115,
   "metadata": {},
   "outputs": [
    {
     "data": {
      "text/plain": [
       "['T Learner (LR, MLP)',\n",
       " 1.3219247683972666,\n",
       " 0.010221918902722837,\n",
       " 3.686482381796486,\n",
       " 4.041268317886401]"
      ]
     },
     "execution_count": 115,
     "metadata": {},
     "output_type": "execute_result"
    }
   ],
   "source": [
    "layer_t = [20 for i in np.arange(7)]\n",
    "t_lr_mlp = BaseTLearner(treatment_learner=MLPRegressor(hidden_layer_sizes=layer_t, learning_rate_init=0.0001, batch_size=64, max_iter=3000, random_state=42), \n",
    "control_learner=LinearRegression())\n",
    "\n",
    "cate_t_lr_mlp_outcome, t_lr_mlp_results = get_metrics(\"T Learner (LR, MLP)\", t_lr_mlp)\n",
    "t_lr_mlp_results"
   ]
  },
  {
   "cell_type": "markdown",
   "metadata": {},
   "source": [
    "#### X-Learner"
   ]
  },
  {
   "cell_type": "markdown",
   "metadata": {},
   "source": [
    "After running through a grid search for hyper parameter tuning, using a learning rate of 1e-4, 5 layers, and 20 neurons per layer was optimal in minimizing PEHE, our most valued statistic for CATE. Even though this particular combination did not have the best estimate for ATE, our focus on CATE is what makes this particular model most meaningful. Best hyperparameters:\n",
    "* lr=0.0001, layers=5, neurons=20\n",
    "\n",
    "In general, the best model for PEHE did not estimate ATE the best. The ATE was close, but for other choices of hyperparameters the ATE estimation was better. When looking at a real world dataset where the PEHE is unknown, this information is important as just because we get a good estimation for the ATE does not mean that PEHE is optimal. Ultimately PEHE tells us more about our within difference error which is critical for highly accurate CATE."
   ]
  },
  {
   "cell_type": "code",
   "execution_count": 86,
   "metadata": {},
   "outputs": [],
   "source": [
    "%%capture \n",
    "layer = [20 for i in np.arange(5)]\n",
    "x_mlp = BaseXLearner(learner=MLPRegressor(hidden_layer_sizes=layer, batch_size=64, learning_rate_init=1e-4, max_iter=2000,activation=\"relu\", random_state=42))\n",
    "cate_x_mlp_outcome, xlearner_mlp_results = get_metrics(\"X Learner (MLP)\", x_mlp)"
   ]
  },
  {
   "cell_type": "code",
   "execution_count": 117,
   "metadata": {},
   "outputs": [
    {
     "name": "stderr",
     "output_type": "stream",
     "text": [
      "The max_iter was reached which means the coef_ did not converge\n",
      "The max_iter was reached which means the coef_ did not converge\n",
      "The max_iter was reached which means the coef_ did not converge\n",
      "The max_iter was reached which means the coef_ did not converge\n",
      "The max_iter was reached which means the coef_ did not converge\n",
      "The max_iter was reached which means the coef_ did not converge\n",
      "The max_iter was reached which means the coef_ did not converge\n",
      "The max_iter was reached which means the coef_ did not converge\n",
      "The max_iter was reached which means the coef_ did not converge\n",
      "The max_iter was reached which means the coef_ did not converge\n",
      "The max_iter was reached which means the coef_ did not converge\n",
      "The max_iter was reached which means the coef_ did not converge\n",
      "The max_iter was reached which means the coef_ did not converge\n",
      "The max_iter was reached which means the coef_ did not converge\n",
      "The max_iter was reached which means the coef_ did not converge\n",
      "The max_iter was reached which means the coef_ did not converge\n",
      "The max_iter was reached which means the coef_ did not converge\n",
      "The max_iter was reached which means the coef_ did not converge\n",
      "The max_iter was reached which means the coef_ did not converge\n",
      "The max_iter was reached which means the coef_ did not converge\n",
      "The max_iter was reached which means the coef_ did not converge\n",
      "The max_iter was reached which means the coef_ did not converge\n",
      "The max_iter was reached which means the coef_ did not converge\n",
      "The max_iter was reached which means the coef_ did not converge\n",
      "The max_iter was reached which means the coef_ did not converge\n",
      "The max_iter was reached which means the coef_ did not converge\n",
      "The max_iter was reached which means the coef_ did not converge\n",
      "The max_iter was reached which means the coef_ did not converge\n",
      "The max_iter was reached which means the coef_ did not converge\n",
      "The max_iter was reached which means the coef_ did not converge\n",
      "The max_iter was reached which means the coef_ did not converge\n",
      "The max_iter was reached which means the coef_ did not converge\n",
      "The max_iter was reached which means the coef_ did not converge\n",
      "The max_iter was reached which means the coef_ did not converge\n",
      "The max_iter was reached which means the coef_ did not converge\n",
      "The max_iter was reached which means the coef_ did not converge\n",
      "The max_iter was reached which means the coef_ did not converge\n",
      "The max_iter was reached which means the coef_ did not converge\n",
      "The max_iter was reached which means the coef_ did not converge\n",
      "The max_iter was reached which means the coef_ did not converge\n",
      "The max_iter was reached which means the coef_ did not converge\n",
      "Stochastic Optimizer: Maximum iterations (2000) reached and the optimization hasn't converged yet.\n",
      "Stochastic Optimizer: Maximum iterations (2000) reached and the optimization hasn't converged yet.\n",
      "Stochastic Optimizer: Maximum iterations (2000) reached and the optimization hasn't converged yet.\n",
      "The max_iter was reached which means the coef_ did not converge\n",
      "The max_iter was reached which means the coef_ did not converge\n",
      "The max_iter was reached which means the coef_ did not converge\n",
      "The max_iter was reached which means the coef_ did not converge\n",
      "The max_iter was reached which means the coef_ did not converge\n",
      "The max_iter was reached which means the coef_ did not converge\n",
      "The max_iter was reached which means the coef_ did not converge\n",
      "The max_iter was reached which means the coef_ did not converge\n",
      "The max_iter was reached which means the coef_ did not converge\n",
      "The max_iter was reached which means the coef_ did not converge\n",
      "The max_iter was reached which means the coef_ did not converge\n",
      "The max_iter was reached which means the coef_ did not converge\n",
      "The max_iter was reached which means the coef_ did not converge\n",
      "The max_iter was reached which means the coef_ did not converge\n",
      "The max_iter was reached which means the coef_ did not converge\n",
      "The max_iter was reached which means the coef_ did not converge\n",
      "The max_iter was reached which means the coef_ did not converge\n",
      "The max_iter was reached which means the coef_ did not converge\n",
      "The max_iter was reached which means the coef_ did not converge\n",
      "The max_iter was reached which means the coef_ did not converge\n",
      "The max_iter was reached which means the coef_ did not converge\n",
      "The max_iter was reached which means the coef_ did not converge\n",
      "The max_iter was reached which means the coef_ did not converge\n",
      "The max_iter was reached which means the coef_ did not converge\n",
      "The max_iter was reached which means the coef_ did not converge\n",
      "The max_iter was reached which means the coef_ did not converge\n",
      "The max_iter was reached which means the coef_ did not converge\n",
      "The max_iter was reached which means the coef_ did not converge\n",
      "The max_iter was reached which means the coef_ did not converge\n",
      "The max_iter was reached which means the coef_ did not converge\n",
      "The max_iter was reached which means the coef_ did not converge\n",
      "The max_iter was reached which means the coef_ did not converge\n",
      "The max_iter was reached which means the coef_ did not converge\n",
      "The max_iter was reached which means the coef_ did not converge\n",
      "The max_iter was reached which means the coef_ did not converge\n",
      "The max_iter was reached which means the coef_ did not converge\n",
      "The max_iter was reached which means the coef_ did not converge\n",
      "The max_iter was reached which means the coef_ did not converge\n",
      "The max_iter was reached which means the coef_ did not converge\n",
      "The max_iter was reached which means the coef_ did not converge\n",
      "The max_iter was reached which means the coef_ did not converge\n",
      "Stochastic Optimizer: Maximum iterations (2000) reached and the optimization hasn't converged yet.\n",
      "Stochastic Optimizer: Maximum iterations (2000) reached and the optimization hasn't converged yet.\n",
      "Stochastic Optimizer: Maximum iterations (2000) reached and the optimization hasn't converged yet.\n"
     ]
    },
    {
     "data": {
      "text/plain": [
       "['X Learner (MLP, LR)',\n",
       " 1.5136467225958254,\n",
       " 0.051691309928889595,\n",
       " 3.6941552373934736,\n",
       " 4.1165342443417465]"
      ]
     },
     "execution_count": 117,
     "metadata": {},
     "output_type": "execute_result"
    }
   ],
   "source": [
    "%%capture \n",
    "layer = [20 for i in np.arange(5)]\n",
    "x_mlp_regressor = MLPRegressor(hidden_layer_sizes=layer, batch_size=64, learning_rate_init=1e-4, max_iter=2000,activation=\"relu\", random_state=42)\n",
    "x_mlp_lr = BaseXLearner(control_outcome_learner=x_mlp_regressor,\n",
    "treatment_outcome_learner=LinearRegression(), control_effect_learner=x_mlp_regressor, treatment_effect_learner=x_mlp_regressor)\n",
    "cate_x_mlp_lr_outcome, x_mlp_lr_results = get_metrics(\"X Learner (MLP, LR)\", x_mlp_lr)\n",
    "x_mlp_lr_results"
   ]
  },
  {
   "cell_type": "code",
   "execution_count": 118,
   "metadata": {},
   "outputs": [],
   "source": [
    "%%capture \n",
    "layer = [20 for i in np.arange(5)]\n",
    "x_mlp_regressor = MLPRegressor(hidden_layer_sizes=layer, batch_size=64, learning_rate_init=1e-4, max_iter=2000,activation=\"relu\", random_state=42)\n",
    "x_lr_mlp = BaseXLearner(treatment_outcome_learner=x_mlp_regressor,\n",
    "control_outcome_learner=LinearRegression(), control_effect_learner=x_mlp_regressor, treatment_effect_learner=x_mlp_regressor)\n",
    "cate_x_lr_mlp_outcome, x_lr_mlp_results = get_metrics(\"X Learner (LR, MLP)\", x_lr_mlp)\n",
    "x_lr_mlp_results"
   ]
  },
  {
   "cell_type": "code",
   "execution_count": 87,
   "metadata": {},
   "outputs": [
    {
     "data": {
      "text/plain": [
       "4.429282"
      ]
     },
     "execution_count": 87,
     "metadata": {},
     "output_type": "execute_result"
    }
   ],
   "source": [
    "results_xmlp = x_mlp.predict(X, z, y, return_components=True)\n",
    "xmlp_y0 = results_xmlp[1][1]\n",
    "xmlp_y1 = results_xmlp[2][1]\n",
    "rmse_xmlp = get_rmse(xmlp_y0, xmlp_y1)\n",
    "rmse_xmlp"
   ]
  },
  {
   "cell_type": "code",
   "execution_count": 119,
   "metadata": {},
   "outputs": [
    {
     "data": {
      "text/plain": [
       "['X Learner (LR, MLP)',\n",
       " 1.35789737813518,\n",
       " 0.2770435355174481,\n",
       " 3.944386918376447,\n",
       " 4.317007014535891]"
      ]
     },
     "execution_count": 119,
     "metadata": {},
     "output_type": "execute_result"
    }
   ],
   "source": [
    "x_lr_mlp_results"
   ]
  },
  {
   "cell_type": "code",
   "execution_count": 20,
   "metadata": {},
   "outputs": [],
   "source": [
    "# %%capture \n",
    "\n",
    "# x_hyper_data = []\n",
    "# for lr in lrs:\n",
    "#     for layer in num_hidden_layers:\n",
    "#         for sizes in hidden_layer_sizes:\n",
    "#             layer_dims = [sizes for i in np.arange(layer)]\n",
    "#             x_mlp = BaseXLearner(learner=MLPRegressor(hidden_layer_sizes=layer_dims, batch_size=64, max_iter=1000, learning_rate_init=lr))\n",
    "#             cate_x_mlp_outcome, xlearner_mlp_results = get_metrics(\"X Learner (MLP)\", x_mlp)\n",
    "#             print(lr, layer, sizes)\n",
    "#             x_hyper_data.append(xlearner_mlp_results + [lr, layer, sizes])\n",
    "\n",
    "# hyper_results_x_mlp = pd.DataFrame(data=x_hyper_data, \n",
    "# columns= [\"Learner\", \"PEHE\", \"Mean Abs Diff (ATE)\", \"LB\", \"UB\", \"lr\", \"layers\", \"hidden_dim\"])\n",
    "# hyper_results_x_mlp.sort_values(by='PEHE').head(5)\n",
    "# hyper_results_x_mlp.sort_values(by='Mean Abs Diff (ATE)').head(5)"
   ]
  },
  {
   "cell_type": "markdown",
   "metadata": {},
   "source": [
    "#### Results"
   ]
  },
  {
   "cell_type": "code",
   "execution_count": 126,
   "metadata": {},
   "outputs": [],
   "source": [
    "results = pd.DataFrame(data=[slearner_ols_results, slearner_mlp_results, tlearner_mlp_results, t_mlp_lr_results, t_lr_mlp_results, xlearner_mlp_results, x_lr_mlp_results, x_mlp_lr_results], \n",
    "columns= [\"Learner\", \"PEHE\", \"Mean Abs Diff (ATE)\", \"LB\", \"UB\"])\n",
    "results.sort_values(by='PEHE')\n",
    "# results.to_csv(\"learner_results.csv\")"
   ]
  },
  {
   "cell_type": "code",
   "execution_count": 127,
   "metadata": {},
   "outputs": [
    {
     "data": {
      "image/png": "[encoded data removed]",
      "text/plain": [
       "<Figure size 864x576 with 1 Axes>"
      ]
     },
     "metadata": {
      "needs_background": "light"
     },
     "output_type": "display_data"
    }
   ],
   "source": [
    "alpha=0.4\n",
    "plt.figure(figsize=(12,8))\n",
    "plt.hist(cate_t_mlp_outcome, alpha=alpha, label='T Learner (MLP)', density=True)\n",
    "plt.hist(cate_x_mlp_outcome,alpha=alpha, label='X Learner (MLP)',  density=True)\n",
    "plt.hist(cate_s_mlp_outcome,alpha=alpha, label='S Learner (MLP)',  density=True)\n",
    "plt.vlines(cate_ols_outcome, 0, 0.35, label='S Learner (LR)',\n",
    "           linestyles='dotted', colors='green', linewidth=2)\n",
    "sns.kdeplot(ite, label=\"True CATE\")\n",
    "plt.title('Distribution of CATE Predictions by Meta Learner')\n",
    "plt.xlabel('Individual Treatment Effect (ITE/CATE)')\n",
    "plt.ylabel('# of Samples')\n",
    "_=plt.legend()\n",
    "plt.savefig(\"ite_ihdp.png\")\n"
   ]
  },
  {
   "cell_type": "code",
   "execution_count": null,
   "metadata": {},
   "outputs": [],
   "source": []
  }
 ],
 "metadata": {
  "kernelspec": {
   "display_name": "Python 3.10.5 ('recsysenv')",
   "language": "python",
   "name": "python3"
  },
  "language_info": {
   "codemirror_mode": {
    "name": "ipython",
    "version": 3
   },
   "file_extension": ".py",
   "mimetype": "text/x-python",
   "name": "python",
   "nbconvert_exporter": "python",
   "pygments_lexer": "ipython3",
   "version": "3.10.5"
  },
  "orig_nbformat": 4,
  "vscode": {
   "interpreter": {
    "hash": "6fca20b64e8ccbc18da76702460f4a98cb369f1efef5395e228726caa14dac05"
   }
  }
 },
 "nbformat": 4,
 "nbformat_minor": 2
}
