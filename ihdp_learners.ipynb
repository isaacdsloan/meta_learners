{
 "cells": [
  {
   "cell_type": "code",
   "execution_count": 1,
   "metadata": {},
   "outputs": [],
   "source": [
    "from learners.s_learner import make_slearner\n",
    "import tensorflow as tf \n",
    "from tensorflow import keras\n",
    "import numpy as np\n",
    "from dataloader import load_IHDP_data\n",
    "from visualizations import plot_cates"
   ]
  },
  {
   "cell_type": "code",
   "execution_count": 2,
   "metadata": {},
   "outputs": [],
   "source": [
    "data = load_IHDP_data(training_data='./ihdp_npci_1-100.train.npz',testing_data='./ihdp_npci_1-100.test.npz')\n",
    "\n",
    "#concatenate t so we can use it as input\n",
    "xt = np.concatenate([data['x'], data['t']], 1)"
   ]
  },
  {
   "cell_type": "markdown",
   "metadata": {},
   "source": [
    "### S-Learner"
   ]
  },
  {
   "cell_type": "code",
   "execution_count": 4,
   "metadata": {},
   "outputs": [],
   "source": [
    "loss_fn = tf.keras.losses.MeanSquaredError() #specify the loss\n",
    "\n",
    "val_split=0.2\n",
    "batch_size=64\n",
    "verbose=1\n",
    "i = 0\n",
    "tf.random.set_seed(i)\n",
    "np.random.seed(i)\n",
    "\n",
    "sgd_callbacks = [\n",
    "        keras.callbacks.TerminateOnNaN(),\n",
    "        keras.callbacks.EarlyStopping(monitor='val_loss', patience=40, min_delta=0.), \n",
    "        keras.callbacks.ReduceLROnPlateau(monitor='loss', factor=0.5, patience=5, verbose=verbose, mode='auto',\n",
    "                          min_delta=0., cooldown=0, min_lr=0),\n",
    "    ]\n",
    "#optimzier hyperparameters\n",
    "sgd_lr = 1e-5\n",
    "momentum = 0.9"
   ]
  },
  {
   "cell_type": "code",
   "execution_count": 9,
   "metadata": {},
   "outputs": [
    {
     "name": "stdout",
     "output_type": "stream",
     "text": [
      "Done\n",
      "Model: \"sequential_3\"\n",
      "_________________________________________________________________\n",
      " Layer (type)                Output Shape              Param #   \n",
      "=================================================================\n",
      " dense_22 (Dense)            (None, 200)               5400      \n",
      "                                                                 \n",
      " dense_23 (Dense)            (None, 200)               40200     \n",
      "                                                                 \n",
      " dense_24 (Dense)            (None, 200)               40200     \n",
      "                                                                 \n",
      " dense_25 (Dense)            (None, 100)               20100     \n",
      "                                                                 \n",
      " dense_26 (Dense)            (None, 100)               10100     \n",
      "                                                                 \n",
      " dense_27 (Dense)            (None, 1)                 101       \n",
      "                                                                 \n",
      "=================================================================\n",
      "Total params: 116,101\n",
      "Trainable params: 116,101\n",
      "Non-trainable params: 0\n",
      "_________________________________________________________________\n",
      "None\n"
     ]
    }
   ],
   "source": [
    "s_learner = make_slearner(0.01, 200, 3)\n",
    "\n",
    "s_learner.compile(optimizer= keras.optimizers.SGD(learning_rate=sgd_lr, momentum=momentum, nesterov=True),\n",
    "                    loss=loss_fn,\n",
    "                    metrics=loss_fn)\n",
    "\n",
    "#'ys' transformed y\n",
    "s_learner.fit(x=xt,y=data['ys'],\n",
    "                validation_split=.2,\n",
    "                epochs=300,\n",
    "                batch_size=64,\n",
    "                callbacks=sgd_callbacks,\n",
    "                verbose=0)\n",
    "print(\"Done\")\n",
    "print(s_learner.summary())"
   ]
  },
  {
   "cell_type": "code",
   "execution_count": 10,
   "metadata": {},
   "outputs": [
    {
     "name": "stdout",
     "output_type": "stream",
     "text": [
      "24/24 [==============================] - 0s 1ms/step\n",
      "24/24 [==============================] - 0s 2ms/step\n",
      "AxesSubplot(0.125,0.125;0.775x0.755)\n",
      "AxesSubplot(0.125,0.125;0.775x0.755)\n",
      "AxesSubplot(0.125,0.125;0.775x0.755)\n",
      "\n",
      "SQRT PEHE: 3.4734552\n",
      "Estimated ATE (True is 3.854): 0.731 \n",
      "\n",
      "\n",
      "\n",
      "Error CATE Estimates: RED\n",
      "Individualized CATE Estimates: BLUE\n",
      "Individualized CATE True: GREEN\n"
     ]
    },
    {
     "data": {
      "text/plain": [
       "(3.4734552, 3.2687371969223022)"
      ]
     },
     "execution_count": 10,
     "metadata": {},
     "output_type": "execute_result"
    },
    {
     "data": {
      "image/png": "[encoded data removed]",
      "text/plain": [
       "<Figure size 432x288 with 1 Axes>"
      ]
     },
     "metadata": {
      "needs_background": "light"
     },
     "output_type": "display_data"
    }
   ],
   "source": [
    "import pandas as pd\n",
    "import numpy as np\n",
    "#create fake ones and zeros to feed network\n",
    "zeros=np.expand_dims(np.zeros(data['x'].shape[0]),1)\n",
    "ones=np.expand_dims(np.ones(data['x'].shape[0]),1)\n",
    "x_untreated = np.concatenate([data['x'], zeros], 1)\n",
    "x_treated = np.concatenate([data['x'], ones], 1)\n",
    "y0_pred_slearner=s_learner.predict(x_untreated)\n",
    "y1_pred_slearner=s_learner.predict(x_treated)\n",
    "\n",
    "plot_cates(y0_pred_slearner,y1_pred_slearner,data)"
   ]
  },
  {
   "cell_type": "markdown",
   "metadata": {},
   "source": [
    "### T-Learner"
   ]
  },
  {
   "cell_type": "code",
   "execution_count": 3,
   "metadata": {},
   "outputs": [
    {
     "name": "stderr",
     "output_type": "stream",
     "text": [
      "2022-11-30 14:17:40.256660: I tensorflow/core/platform/cpu_feature_guard.cc:193] This TensorFlow binary is optimized with oneAPI Deep Neural Network Library (oneDNN) to use the following CPU instructions in performance-critical operations:  AVX2 FMA\n",
      "To enable them in other operations, rebuild TensorFlow with the appropriate compiler flags.\n"
     ]
    },
    {
     "name": "stdout",
     "output_type": "stream",
     "text": [
      "\n",
      "Epoch 87: ReduceLROnPlateau reducing learning rate to 4.999999873689376e-06.\n",
      "\n",
      "Epoch 97: ReduceLROnPlateau reducing learning rate to 2.499999936844688e-06.\n",
      "\n",
      "Epoch 116: ReduceLROnPlateau reducing learning rate to 1.249999968422344e-06.\n",
      "\n",
      "Epoch 121: ReduceLROnPlateau reducing learning rate to 6.24999984211172e-07.\n",
      "\n",
      "Epoch 126: ReduceLROnPlateau reducing learning rate to 3.12499992105586e-07.\n",
      "\n",
      "Epoch 131: ReduceLROnPlateau reducing learning rate to 1.56249996052793e-07.\n",
      "\n",
      "Epoch 136: ReduceLROnPlateau reducing learning rate to 7.81249980263965e-08.\n",
      "\n",
      "Epoch 145: ReduceLROnPlateau reducing learning rate to 3.906249901319825e-08.\n",
      "\n",
      "Epoch 154: ReduceLROnPlateau reducing learning rate to 1.9531249506599124e-08.\n",
      "\n",
      "Epoch 159: ReduceLROnPlateau reducing learning rate to 9.765624753299562e-09.\n",
      "\n",
      "Epoch 164: ReduceLROnPlateau reducing learning rate to 4.882812376649781e-09.\n",
      "\n",
      "Epoch 169: ReduceLROnPlateau reducing learning rate to 2.4414061883248905e-09.\n",
      "\n",
      "Epoch 174: ReduceLROnPlateau reducing learning rate to 1.2207030941624453e-09.\n",
      "\n",
      "Epoch 179: ReduceLROnPlateau reducing learning rate to 6.103515470812226e-10.\n",
      "\n",
      "Epoch 184: ReduceLROnPlateau reducing learning rate to 3.051757735406113e-10.\n",
      "\n",
      "Epoch 189: ReduceLROnPlateau reducing learning rate to 1.5258788677030566e-10.\n",
      "\n",
      "Epoch 194: ReduceLROnPlateau reducing learning rate to 7.629394338515283e-11.\n",
      "\n",
      "Epoch 199: ReduceLROnPlateau reducing learning rate to 3.8146971692576415e-11.\n",
      "\n",
      "Epoch 204: ReduceLROnPlateau reducing learning rate to 1.9073485846288207e-11.\n",
      "\n",
      "Epoch 209: ReduceLROnPlateau reducing learning rate to 9.536742923144104e-12.\n",
      "\n",
      "Epoch 214: ReduceLROnPlateau reducing learning rate to 4.768371461572052e-12.\n",
      "\n",
      "Epoch 219: ReduceLROnPlateau reducing learning rate to 2.384185730786026e-12.\n",
      "\n",
      "Epoch 224: ReduceLROnPlateau reducing learning rate to 1.192092865393013e-12.\n",
      "DONE!\n",
      "Model: \"model\"\n",
      "__________________________________________________________________________________________________\n",
      " Layer (type)                   Output Shape         Param #     Connected to                     \n",
      "==================================================================================================\n",
      " input (InputLayer)             [(None, 25)]         0           []                               \n",
      "                                                                                                  \n",
      " y0_hidden_1 (Dense)            (None, 100)          2600        ['input[0][0]']                  \n",
      "                                                                                                  \n",
      " y1_hidden_1 (Dense)            (None, 100)          2600        ['input[0][0]']                  \n",
      "                                                                                                  \n",
      " y0_hidden_2 (Dense)            (None, 100)          10100       ['y0_hidden_1[0][0]']            \n",
      "                                                                                                  \n",
      " y1_hidden_2 (Dense)            (None, 100)          10100       ['y1_hidden_1[0][0]']            \n",
      "                                                                                                  \n",
      " y0_predictions (Dense)         (None, 1)            101         ['y0_hidden_2[0][0]']            \n",
      "                                                                                                  \n",
      " y1_predictions (Dense)         (None, 1)            101         ['y1_hidden_2[0][0]']            \n",
      "                                                                                                  \n",
      " concatenate (Concatenate)      (None, 2)            0           ['y0_predictions[0][0]',         \n",
      "                                                                  'y1_predictions[0][0]']         \n",
      "                                                                                                  \n",
      "==================================================================================================\n",
      "Total params: 25,602\n",
      "Trainable params: 25,602\n",
      "Non-trainable params: 0\n",
      "__________________________________________________________________________________________________\n",
      "None\n"
     ]
    }
   ],
   "source": [
    "from learners.t_learner import make_tlearner, regression_loss\n",
    "\n",
    "t_learner = make_tlearner(25, .01, 100)\n",
    "\n",
    "val_split=0.2\n",
    "batch_size=64\n",
    "verbose=1\n",
    "i = 0\n",
    "tf.random.set_seed(i)\n",
    "np.random.seed(i)\n",
    "yt = np.concatenate([data['ys'], data['t']], 1) #we'll use both y and t to compute the loss\n",
    "\n",
    "\n",
    "sgd_callbacks = [\n",
    "        keras.callbacks.TerminateOnNaN(),\n",
    "        keras.callbacks.EarlyStopping(monitor='val_loss', patience=40, min_delta=0.), \n",
    "        #40 is Shi's recommendation for this dataset, but you should tune for your data \n",
    "        keras.callbacks.ReduceLROnPlateau(monitor='loss', factor=0.5, patience=5, verbose=verbose, mode='auto',\n",
    "                          min_delta=0., cooldown=0, min_lr=0),\n",
    "    ]\n",
    "#optimzier hyperparameters\n",
    "sgd_lr = 1e-5\n",
    "momentum = 0.9\n",
    "t_learner.compile(optimizer=keras.optimizers.SGD(learning_rate=sgd_lr, momentum=momentum, nesterov=True),\n",
    "                    loss=regression_loss,\n",
    "                    metrics=regression_loss)\n",
    "\n",
    "t_learner.fit(x=data['x'],y=yt,\n",
    "                callbacks=sgd_callbacks,\n",
    "                validation_split=val_split,\n",
    "                epochs=300,\n",
    "                batch_size=batch_size,\n",
    "                verbose=0)\n",
    "print(\"DONE!\")\n",
    "print(t_learner.summary())\n"
   ]
  },
  {
   "cell_type": "code",
   "execution_count": 4,
   "metadata": {},
   "outputs": [
    {
     "name": "stdout",
     "output_type": "stream",
     "text": [
      "24/24 [==============================] - 0s 1ms/step\n",
      "AxesSubplot(0.125,0.125;0.775x0.755)\n",
      "AxesSubplot(0.125,0.125;0.775x0.755)\n",
      "AxesSubplot(0.125,0.125;0.775x0.755)\n",
      "\n",
      "SQRT PEHE: 0.77170753\n",
      "Estimated ATE (True is 3.854): 3.635 \n",
      "\n",
      "\n",
      "\n",
      "Error CATE Estimates: RED\n",
      "Individualized CATE Estimates: BLUE\n",
      "Individualized CATE True: GREEN\n"
     ]
    },
    {
     "data": {
      "text/plain": [
       "(0.77170753, 0.36472463607788086)"
      ]
     },
     "execution_count": 4,
     "metadata": {},
     "output_type": "execute_result"
    },
    {
     "data": {
      "image/png": "[encoded data removed]",
      "text/plain": [
       "<Figure size 432x288 with 1 Axes>"
      ]
     },
     "metadata": {
      "needs_background": "light"
     },
     "output_type": "display_data"
    }
   ],
   "source": [
    "concat_pred=t_learner.predict(data['x'])\n",
    "#dont forget to rescale the outcome before estimation!\n",
    "y0_pred_tlearner,y1_pred_tlearner = concat_pred[:, 0].reshape(-1,1),concat_pred[:, 1].reshape(-1,1)\n",
    "plot_cates(y0_pred_tlearner,y1_pred_tlearner,data)"
   ]
  }
 ],
 "metadata": {
  "kernelspec": {
   "display_name": "Python 3.10.5 ('recsysenv')",
   "language": "python",
   "name": "python3"
  },
  "language_info": {
   "codemirror_mode": {
    "name": "ipython",
    "version": 3
   },
   "file_extension": ".py",
   "mimetype": "text/x-python",
   "name": "python",
   "nbconvert_exporter": "python",
   "pygments_lexer": "ipython3",
   "version": "3.10.5"
  },
  "orig_nbformat": 4,
  "vscode": {
   "interpreter": {
    "hash": "6fca20b64e8ccbc18da76702460f4a98cb369f1efef5395e228726caa14dac05"
   }
  }
 },
 "nbformat": 4,
 "nbformat_minor": 2
}
